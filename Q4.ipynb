{
 "cells": [
  {
   "cell_type": "code",
   "execution_count": 1,
   "metadata": {},
   "outputs": [
    {
     "name": "stdout",
     "output_type": "stream",
     "text": [
      "The matrix required for polynomial fit  [[18.0, 1072.0, 73760.0], [59.55555555555556, 9916.444444444445, 1152398.222222222], [4097.777777777777, 116.21082825385449, 4186183.22839725]]\n",
      "Inverse Exists and determinant is  2543065402259.8486\n"
     ]
    },
    {
     "data": {
      "image/png": "[encoded data removed]",
      "text/plain": [
       "<Figure size 432x288 with 1 Axes>"
      ]
     },
     "metadata": {
      "needs_background": "light"
     },
     "output_type": "display_data"
    },
    {
     "name": "stdout",
     "output_type": "stream",
     "text": [
      "R_max is  41.01216025882073 m\n",
      "Hence Highest reach H_max is  53.09352660229107 m\n"
     ]
    }
   ],
   "source": [
    "#Question 4\n",
    "\n",
    "from My_Lib import *\n",
    "import math\n",
    "import matplotlib.pyplot as plt\n",
    "import numpy as np\n",
    "\n",
    "#making lists for appending the data as given\n",
    "A=[]\n",
    "X=[] \n",
    "Y=[]\n",
    "with open(\"esem_fit2.dat\") as C:\n",
    "    for k in C:\n",
    "        A.append(list(map(float, k.split())))\n",
    "for i in range(len(A)):\n",
    "    X.append(float(A[i][0]))  #Appending datas for X as temperature \n",
    "    Y.append(float(A[i][-1])) #Appending datas for Y as conductivity\n",
    "\n",
    "result=[]\n",
    "result=polynomial_curve_fitting(X,Y,2) # '2' calling polynomial fit because quadratic fit is given h = a0 + a1r + a2r^2\n",
    "\n",
    "\n",
    "\n",
    "\n",
    "x = np.arange(0, 100,0.2)\n",
    "y=result[0]+result[1]*x+result[2]*x**2\n",
    "plt.plot(X, Y,'b.',label=\"data\")\n",
    "plt.plot(x,y,'--r',label=\"fitted curve\")\n",
    "\n",
    "plt.xlabel(\"$r$\")\n",
    "plt.ylabel(\"$h~~(height)$\")\n",
    "plt.legend()\n",
    "plt.title(\"Plot for data \")\n",
    "plt.show()\n",
    "\n",
    "\n",
    "\n",
    "#HIGHEST REACH #Differentiate at dh/dr at r=0\n",
    "#After diffrentiating we get  \n",
    "\n",
    "def dhdr(r):\n",
    "    return result[1]+2*result[2]*r\n",
    "\n",
    "root_val,t,r=Newton_Raphson_Method(dhdr,0,10**(-4)) #calling newton rhapson for finding value of r\n",
    "print(\"R_max is \",root_val,\"m\")\n",
    "\n",
    "\n",
    "h=result[0]+result[1]*root_val+result[2]*root_val**2 #putting that value of r\n",
    "print(\"Hence Highest reach H_max is \",h,\"m\")"
   ]
  }
 ],
 "metadata": {
  "interpreter": {
   "hash": "2e5e1f8e546ab1b895d222b8f24baeb07cb94671923e1f3306e7f49117bb6511"
  },
  "kernelspec": {
   "display_name": "Python 3.9.6 64-bit",
   "language": "python",
   "name": "python3"
  },
  "language_info": {
   "codemirror_mode": {
    "name": "ipython",
    "version": 3
   },
   "file_extension": ".py",
   "mimetype": "text/x-python",
   "name": "python",
   "nbconvert_exporter": "python",
   "pygments_lexer": "ipython3",
   "version": "3.9.6"
  },
  "orig_nbformat": 4
 },
 "nbformat": 4,
 "nbformat_minor": 2
}
