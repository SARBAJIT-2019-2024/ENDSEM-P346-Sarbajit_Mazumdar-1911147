{
 "cells": [
  {
   "cell_type": "code",
   "execution_count": 5,
   "metadata": {},
   "outputs": [
    {
     "name": "stdout",
     "output_type": "stream",
     "text": [
      "Hence the potential Energy will be  1.8728664575240428 Joules.\n"
     ]
    }
   ],
   "source": [
    "#Question2\n",
    "#Sarbajit Mazumdar,1911147\n",
    "\n",
    "\n",
    "\n",
    "\n",
    "\n",
    "from My_Lib import *\n",
    "\n",
    "import math\n",
    "import matplotlib.pyplot as plt\n",
    "\n",
    "L=4 #length of the wire\n",
    "l=1 #distance away from \n",
    "d=1.5 #height at which the potential is to be derived\n",
    "k=1 #In natural units\n",
    "N=12 # As mentioned in the question, number of intervals\n",
    "\n",
    "#Charge density is  given\n",
    "#Limits of Integration\n",
    "upper_limit=L-l \n",
    "Lower_limit=-l \n",
    "\n",
    "def f(x): #defining the function\n",
    "    return k*math.exp(-x**2/L**2)/(x**2+d**2)**(0.5)\n",
    "\n",
    "\n",
    "sol_simp = integral_simp(f,upper_limit,Lower_limit, N) #calling the simpson method\n",
    "print(\"Hence the potential Energy will be \",sol_simp,\"Joules.\")\n",
    "\n",
    "\n",
    "\n"
   ]
  }
 ],
 "metadata": {
  "interpreter": {
   "hash": "2e5e1f8e546ab1b895d222b8f24baeb07cb94671923e1f3306e7f49117bb6511"
  },
  "kernelspec": {
   "display_name": "Python 3.9.6 64-bit",
   "language": "python",
   "name": "python3"
  },
  "language_info": {
   "codemirror_mode": {
    "name": "ipython",
    "version": 3
   },
   "file_extension": ".py",
   "mimetype": "text/x-python",
   "name": "python",
   "nbconvert_exporter": "python",
   "pygments_lexer": "ipython3",
   "version": "3.9.6"
  },
  "orig_nbformat": 4
 },
 "nbformat": 4,
 "nbformat_minor": 2
}
