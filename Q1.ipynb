{
 "cells": [
  {
   "cell_type": "code",
   "execution_count": 14,
   "metadata": {},
   "outputs": [
    {
     "name": "stdout",
     "output_type": "stream",
     "text": [
      "Hence the guess value is  4.139495798319328 cubic meters.\n",
      "The Volume to accuracy 10^(-4) accuracy of Cl_2 is coming out to be 3.9299 cubic meters.\n"
     ]
    }
   ],
   "source": [
    "#Question 1\n",
    "#Sarbajit Mazumdar,1911147\n",
    "\n",
    "\n",
    "from My_Lib import *\n",
    "\n",
    "import math\n",
    "import matplotlib.pyplot as plt\n",
    "\n",
    "#Given Constraints/parameters\n",
    "p=5.95 \n",
    "a=6.254\n",
    "R=0.0821\n",
    "b=0.05422\n",
    "T=300  #temperature\n",
    "\n",
    "def f(v):\n",
    "    return (p+a/(v**2))*(v-b)-R*T   #Given Function\n",
    "\n",
    "#Guess calculation following IDEAL gas law: PV=RT\n",
    "V_0=(R*T)/p\n",
    "print(\"Hence the guess value is \",V_0,\"cubic meters.\")\n",
    "\n",
    "\n",
    "root_val,t,r=Newton_Raphson_Method(f,V_0,10**(-4))#calling Newton Rhapson method\n",
    "print(\"The Volume to accuracy 10^(-4) accuracy of Cl_2 is coming out to be %.4f\"%root_val,\"cubic meters.\")\n",
    "\n"
   ]
  }
 ],
 "metadata": {
  "interpreter": {
   "hash": "2e5e1f8e546ab1b895d222b8f24baeb07cb94671923e1f3306e7f49117bb6511"
  },
  "kernelspec": {
   "display_name": "Python 3.9.6 64-bit",
   "language": "python",
   "name": "python3"
  },
  "language_info": {
   "codemirror_mode": {
    "name": "ipython",
    "version": 3
   },
   "file_extension": ".py",
   "mimetype": "text/x-python",
   "name": "python",
   "nbconvert_exporter": "python",
   "pygments_lexer": "ipython3",
   "version": "3.9.6"
  },
  "orig_nbformat": 4
 },
 "nbformat": 4,
 "nbformat_minor": 2
}
